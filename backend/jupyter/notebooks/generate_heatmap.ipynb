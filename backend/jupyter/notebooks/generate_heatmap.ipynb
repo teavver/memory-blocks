{
 "cells": [
  {
   "cell_type": "code",
   "execution_count": null,
   "metadata": {},
   "outputs": [],
   "source": [
    "def test():\n",
    "    print(123)\n",
    "    return 123"
   ]
  },
  {
   "cell_type": "code",
   "execution_count": 1,
   "metadata": {},
   "outputs": [],
   "source": [
    "import json\n",
    "\n",
    "def save_nb():\n",
    "    with open(\"generate_heatmap.ipynb\", mode=\"r\", encoding=\"utf-8\") as f:\n",
    "        file = json.loads(f.read())\n",
    "        print(file)\n",
    "\n",
    "save_nb()"
   ]
  }
 ],
 "metadata": {
  "kernelspec": {
   "display_name": "Python 3",
   "language": "python",
   "name": "python3"
  },
  "language_info": {
   "codemirror_mode": {
    "name": "ipython",
    "version": 3
   },
   "file_extension": ".py",
   "mimetype": "text/x-python",
   "name": "python",
   "nbconvert_exporter": "python",
   "pygments_lexer": "ipython3",
   "version": "3.11.1"
  },
  "orig_nbformat": 4,
  "vscode": {
   "interpreter": {
    "hash": "d61d8c0954acdb1dfd1aebb5166296df88cd98fee85ec44a767cc8ae10cbe8a9"
   }
  }
 },
 "nbformat": 4,
 "nbformat_minor": 2
}
