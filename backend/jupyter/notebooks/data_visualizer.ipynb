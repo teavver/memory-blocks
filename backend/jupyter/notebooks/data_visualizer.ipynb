{
 "cells": [
  {
   "cell_type": "code",
   "execution_count": 82,
   "metadata": {},
   "outputs": [
    {
     "name": "stdout",
     "output_type": "stream",
     "text": [
      "{'0': {'game_sequence': [1, 8, 14, 2, 7, 0, 3, 1, 10], 'last_tile': 0, 'score': 9, 'user_id': 3472, 'game_id': 838574}, '1': {'game_sequence': [4, 1, 5, 6, 10, 15, 4], 'last_tile': 8, 'score': 7, 'user_id': 8978, 'game_id': 484273}, '2': {'game_sequence': [11, 11, 10, 4, 4, 10, 14, 8, 12, 11, 15], 'last_tile': 5, 'score': 11, 'user_id': 6185, 'game_id': 632688}, '3': {'game_sequence': [], 'last_tile': 5, 'score': 0, 'user_id': 4068, 'game_id': 448515}, '4': {'game_sequence': [14], 'last_tile': 12, 'score': 1, 'user_id': 4443, 'game_id': 706129}, '5': {'game_sequence': [12, 7, 3, 12, 9, 11, 7, 0, 11, 4, 6, 9, 14, 4, 6, 1], 'last_tile': 14, 'score': 16, 'user_id': 9890, 'game_id': 966101}, '6': {'game_sequence': [15, 2, 10, 15, 8, 8, 4, 10, 8, 5, 1, 9], 'last_tile': 2, 'score': 12, 'user_id': 2925, 'game_id': 161453}, '7': {'game_sequence': [8, 5, 9, 3, 0], 'last_tile': 12, 'score': 5, 'user_id': 5795, 'game_id': 907592}, '8': {'game_sequence': [9, 4, 11, 7, 7, 9, 8, 7, 3], 'last_tile': 0, 'score': 9, 'user_id': 5762, 'game_id': 890460}, '9': {'game_sequence': [4, 10, 8], 'last_tile': 1, 'score': 3, 'user_id': 2718, 'game_id': 177790}, '10': {'game_sequence': [8, 12, 2, 12, 11, 4, 9, 14, 15, 10, 15], 'last_tile': 1, 'score': 11, 'user_id': 6429, 'game_id': 128936}, '11': {'game_sequence': [13, 9, 2, 10, 12, 12, 15, 3, 0, 11, 8, 10, 7, 14, 0, 11, 14, 3], 'last_tile': 10, 'score': 18, 'user_id': 5355, 'game_id': 105126}, '12': {'game_sequence': [15, 7, 11], 'last_tile': 13, 'score': 3, 'user_id': 6701, 'game_id': 534699}, '13': {'game_sequence': [10, 10, 1, 15, 9, 15, 2, 0, 12, 7, 7, 10, 10, 8, 11], 'last_tile': 8, 'score': 15, 'user_id': 1776, 'game_id': 464544}, '14': {'game_sequence': [3, 0, 14, 11, 7, 13, 5, 5, 7, 11, 6, 4], 'last_tile': 3, 'score': 12, 'user_id': 2660, 'game_id': 108811}, '15': {'game_sequence': [15, 4, 13, 0, 13, 5, 1, 4, 10, 13, 9, 12, 2, 1, 15, 0, 15], 'last_tile': 3, 'score': 17, 'user_id': 1089, 'game_id': 348287}, '16': {'game_sequence': [10, 14, 3, 6], 'last_tile': 11, 'score': 4, 'user_id': 1398, 'game_id': 277569}, '17': {'game_sequence': [13, 3, 5], 'last_tile': 4, 'score': 3, 'user_id': 2769, 'game_id': 593216}, '18': {'game_sequence': [13, 15, 7, 0, 3, 0, 0, 12, 11, 9, 13], 'last_tile': 13, 'score': 11, 'user_id': 7397, 'game_id': 126722}, '19': {'game_sequence': [12, 15, 14, 5], 'last_tile': 10, 'score': 4, 'user_id': 1185, 'game_id': 399496}}\n"
     ]
    }
   ],
   "source": [
    "import json\n",
    "\n",
    "def load_json_data():\n",
    "    with open('../data/test_data.json') as f:\n",
    "        data = json.loads(f.read())\n",
    "        print(data)\n",
    "        return data\n",
    "\n",
    "data = load_json_data()"
   ]
  },
  {
   "cell_type": "code",
   "execution_count": null,
   "metadata": {},
   "outputs": [],
   "source": [
    "# Divide an array into n chunks\n",
    "def divide_chunks(arr, chunks):\n",
    "    for i in range(0, len(arr), chunks):\n",
    "        yield arr[i:i + chunks]"
   ]
  },
  {
   "cell_type": "code",
   "execution_count": 90,
   "metadata": {},
   "outputs": [
    {
     "name": "stdout",
     "output_type": "stream",
     "text": [
      "[0, 8, 5, 5, 12, 14, 2, 12, 0, 1, 1, 10, 13, 8, 3, 3, 11, 4, 13, 10]\n"
     ]
    }
   ],
   "source": [
    "import numpy as np\n",
    "import matplotlib\n",
    "import matplotlib.pyplot as plt\n",
    "import json\n",
    "\n",
    "game_arr = [0] * 16\n",
    "scores = []\n",
    "last_tiles = []\n",
    "\n",
    "game_sequences_data = []\n",
    "\n",
    "def get_specific_data(array_to_fill, data_type, sample_size = \"-1\"):\n",
    "    for i in data.keys():\n",
    "        if(i == sample_size):\n",
    "            print(f'received {sample_size} samples')\n",
    "            return\n",
    "        array_to_fill.append(data[i][data_type])\n",
    "        # last_tiles.append(data[i]['last_tile'])\n",
    "        # scores.append(data[i]['score'])\n",
    "\n",
    "# get_specific_data(\"5\", game_sequences_data, 'game_sequence')\n",
    "\n",
    "# for i, item in enumerate(game_sequences_data):\n",
    "#     print(i, item)\n",
    "\n",
    "# Assign game over tile to game_arr\n",
    "get_specific_data(last_tiles, 'last_tile', 10)\n",
    "print(last_tiles)\n",
    "# game_arr[last_tiles[1]] = 1\n",
    "# data_arr = list(divide_chunks(game_arr, 4))\n",
    "# print(data_arr)\n",
    "\n",
    "# # Define plot ranges + properties\n",
    "# plt.xlim(-0.5,3.5)\n",
    "# plt.ylim(-0.5,3.5)\n",
    "# plt.axis('scaled')\n",
    "\n",
    "\n",
    "# plt.imshow(data_arr)\n",
    "# %qtconsole"
   ]
  },
  {
   "cell_type": "code",
   "execution_count": null,
   "metadata": {},
   "outputs": [],
   "source": [
    "# Show a heatmap of mistakes of n sampled games\n",
    "\n",
    "def mistakes_heatmap(amount_of_games):\n",
    "    mistakes_data = []\n",
    "    get_specific_data(mistakes_data,'last_tile',20) # 20 games for decent testing"
   ]
  },
  {
   "cell_type": "code",
   "execution_count": null,
   "metadata": {},
   "outputs": [],
   "source": []
  }
 ],
 "metadata": {
  "kernelspec": {
   "display_name": "Python 3",
   "language": "python",
   "name": "python3"
  },
  "language_info": {
   "codemirror_mode": {
    "name": "ipython",
    "version": 3
   },
   "file_extension": ".py",
   "mimetype": "text/x-python",
   "name": "python",
   "nbconvert_exporter": "python",
   "pygments_lexer": "ipython3",
   "version": "3.11.0"
  },
  "orig_nbformat": 4,
  "vscode": {
   "interpreter": {
    "hash": "c261aea317cc0286b3b3261fbba9abdec21eaa57589985bb7a274bf54d6cc0a7"
   }
  }
 },
 "nbformat": 4,
 "nbformat_minor": 2
}
