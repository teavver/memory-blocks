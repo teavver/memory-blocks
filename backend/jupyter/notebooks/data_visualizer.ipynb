{
 "cells": [
  {
   "cell_type": "code",
   "execution_count": 107,
   "metadata": {},
   "outputs": [
    {
     "name": "stdout",
     "output_type": "stream",
     "text": [
      "{'0': {'game_sequence': [1, 8, 14, 2, 7, 0, 3, 1, 10], 'last_tile': 0, 'score': 9, 'user_id': 3472, 'game_id': 838574}, '1': {'game_sequence': [4, 1, 5, 6, 10, 15, 4], 'last_tile': 8, 'score': 7, 'user_id': 8978, 'game_id': 484273}, '2': {'game_sequence': [11, 11, 10, 4, 4, 10, 14, 8, 12, 11, 15], 'last_tile': 5, 'score': 11, 'user_id': 6185, 'game_id': 632688}, '3': {'game_sequence': [], 'last_tile': 5, 'score': 0, 'user_id': 4068, 'game_id': 448515}, '4': {'game_sequence': [14], 'last_tile': 12, 'score': 1, 'user_id': 4443, 'game_id': 706129}, '5': {'game_sequence': [12, 7, 3, 12, 9, 11, 7, 0, 11, 4, 6, 9, 14, 4, 6, 1], 'last_tile': 14, 'score': 16, 'user_id': 9890, 'game_id': 966101}, '6': {'game_sequence': [15, 2, 10, 15, 8, 8, 4, 10, 8, 5, 1, 9], 'last_tile': 2, 'score': 12, 'user_id': 2925, 'game_id': 161453}, '7': {'game_sequence': [8, 5, 9, 3, 0], 'last_tile': 12, 'score': 5, 'user_id': 5795, 'game_id': 907592}, '8': {'game_sequence': [9, 4, 11, 7, 7, 9, 8, 7, 3], 'last_tile': 0, 'score': 9, 'user_id': 5762, 'game_id': 890460}, '9': {'game_sequence': [4, 10, 8], 'last_tile': 1, 'score': 3, 'user_id': 2718, 'game_id': 177790}, '10': {'game_sequence': [8, 12, 2, 12, 11, 4, 9, 14, 15, 10, 15], 'last_tile': 1, 'score': 11, 'user_id': 6429, 'game_id': 128936}, '11': {'game_sequence': [13, 9, 2, 10, 12, 12, 15, 3, 0, 11, 8, 10, 7, 14, 0, 11, 14, 3], 'last_tile': 10, 'score': 18, 'user_id': 5355, 'game_id': 105126}, '12': {'game_sequence': [15, 7, 11], 'last_tile': 13, 'score': 3, 'user_id': 6701, 'game_id': 534699}, '13': {'game_sequence': [10, 10, 1, 15, 9, 15, 2, 0, 12, 7, 7, 10, 10, 8, 11], 'last_tile': 8, 'score': 15, 'user_id': 1776, 'game_id': 464544}, '14': {'game_sequence': [3, 0, 14, 11, 7, 13, 5, 5, 7, 11, 6, 4], 'last_tile': 3, 'score': 12, 'user_id': 2660, 'game_id': 108811}, '15': {'game_sequence': [15, 4, 13, 0, 13, 5, 1, 4, 10, 13, 9, 12, 2, 1, 15, 0, 15], 'last_tile': 3, 'score': 17, 'user_id': 1089, 'game_id': 348287}, '16': {'game_sequence': [10, 14, 3, 6], 'last_tile': 11, 'score': 4, 'user_id': 1398, 'game_id': 277569}, '17': {'game_sequence': [13, 3, 5], 'last_tile': 4, 'score': 3, 'user_id': 2769, 'game_id': 593216}, '18': {'game_sequence': [13, 15, 7, 0, 3, 0, 0, 12, 11, 9, 13], 'last_tile': 13, 'score': 11, 'user_id': 7397, 'game_id': 126722}, '19': {'game_sequence': [12, 15, 14, 5], 'last_tile': 10, 'score': 4, 'user_id': 1185, 'game_id': 399496}}\n"
     ]
    }
   ],
   "source": [
    "import json\n",
    "\n",
    "def load_json_data():\n",
    "    with open('../data/test_data.json') as f:\n",
    "        data = json.loads(f.read())\n",
    "        print(data)\n",
    "        return data\n",
    "\n",
    "data = load_json_data()"
   ]
  },
  {
   "cell_type": "code",
   "execution_count": 108,
   "metadata": {},
   "outputs": [],
   "source": [
    "# Divide an array into n chunks\n",
    "def chunks(lst, n):\n",
    "    for i in range(0, len(lst), n):\n",
    "        yield lst[i:i + n]"
   ]
  },
  {
   "cell_type": "code",
   "execution_count": 109,
   "metadata": {},
   "outputs": [],
   "source": [
    "import numpy as np\n",
    "import matplotlib\n",
    "import matplotlib.pyplot as plt\n",
    "import json\n",
    "\n",
    "game_arr = [0] * 16\n",
    "scores = []\n",
    "last_tiles = []\n",
    "\n",
    "game_sequences_data = []\n",
    "\n",
    "def get_specific_data(array_to_fill, data_type, sample_size = \"-1\"):\n",
    "    for i in data.keys():\n",
    "        if(sample_size > str(len(data.keys()))):\n",
    "            print(f'not enough games! (requested: {sample_size} available: {len(data.keys())})')\n",
    "            return\n",
    "        if(i == sample_size):\n",
    "            print(f'received {sample_size} samples')\n",
    "            return\n",
    "        array_to_fill.append(data[i][data_type])\n",
    "        # last_tiles.append(data[i]['last_tile'])\n",
    "        # scores.append(data[i]['score'])\n",
    "\n",
    "# get_specific_data(\"5\", game_sequences_data, 'game_sequence')\n",
    "\n",
    "# for i, item in enumerate(game_sequences_data):\n",
    "#     print(i, item)\n",
    "\n",
    "# Assign game over tile to game_arr\n",
    "# game_arr[last_tiles[1]] = 1\n",
    "# data_arr = list(divide_chunks(game_arr, 4))\n",
    "# print(data_arr)\n",
    "\n",
    "# # Define plot ranges + properties\n",
    "# plt.xlim(-0.5,3.5)\n",
    "# plt.ylim(-0.5,3.5)\n",
    "# plt.axis('scaled')\n",
    "\n",
    "\n",
    "# plt.imshow(data_arr)\n",
    "# %qtconsole"
   ]
  },
  {
   "cell_type": "code",
   "execution_count": 114,
   "metadata": {},
   "outputs": [
    {
     "name": "stdout",
     "output_type": "stream",
     "text": [
      "[0, 8, 5, 5, 12, 14, 2, 12, 0, 1, 1, 10, 13, 8, 3, 3, 11, 4, 13, 10]\n",
      "heatmap arr:  [[2, 2, 1, 2], [1, 2, 0, 0], [2, 0, 2, 1], [2, 2, 1, 0]]\n"
     ]
    },
    {
     "ename": "UnboundLocalError",
     "evalue": "cannot access local variable 'cbar_kw' where it is not associated with a value",
     "output_type": "error",
     "traceback": [
      "\u001b[1;31m---------------------------------------------------------------------------\u001b[0m",
      "\u001b[1;31mUnboundLocalError\u001b[0m                         Traceback (most recent call last)",
      "Cell \u001b[1;32mIn[114], line 43\u001b[0m\n\u001b[0;32m     40\u001b[0m     fig\u001b[39m.\u001b[39mtight_layout()\n\u001b[0;32m     41\u001b[0m     plt\u001b[39m.\u001b[39mshow()\n\u001b[1;32m---> 43\u001b[0m display_heatmap(heatmap_arr, cbarlabel\u001b[39m=\u001b[39;49m\u001b[39m\"\u001b[39;49m\u001b[39mtest\u001b[39;49m\u001b[39m\"\u001b[39;49m)\n",
      "Cell \u001b[1;32mIn[114], line 32\u001b[0m, in \u001b[0;36mdisplay_heatmap\u001b[1;34m(data_array, cbarlabel)\u001b[0m\n\u001b[0;32m     29\u001b[0m \u001b[39mif\u001b[39;00m ax \u001b[39mis\u001b[39;00m \u001b[39mNone\u001b[39;00m:\n\u001b[0;32m     30\u001b[0m     ax \u001b[39m=\u001b[39m plt\u001b[39m.\u001b[39mgca()\n\u001b[1;32m---> 32\u001b[0m \u001b[39mif\u001b[39;00m cbar_kw \u001b[39mis\u001b[39;00m \u001b[39mNone\u001b[39;00m:\n\u001b[0;32m     33\u001b[0m     cbar_kw \u001b[39m=\u001b[39m {}\n\u001b[0;32m     35\u001b[0m cbar \u001b[39m=\u001b[39m ax\u001b[39m.\u001b[39mfigure\u001b[39m.\u001b[39mcolorbar(im, ax\u001b[39m=\u001b[39max, \u001b[39m*\u001b[39m\u001b[39m*\u001b[39mcbar_kw)\n",
      "\u001b[1;31mUnboundLocalError\u001b[0m: cannot access local variable 'cbar_kw' where it is not associated with a value"
     ]
    },
    {
     "data": {
      "image/png": "[encoded data removed]",
      "text/plain": [
       "<Figure size 640x480 with 1 Axes>"
      ]
     },
     "metadata": {},
     "output_type": "display_data"
    }
   ],
   "source": [
    "# Show a heatmap of mistakes of n sampled games\n",
    "\n",
    "mistakes_data = []\n",
    "game_array = [0] * 16\n",
    "\n",
    "def mistakes_heatmap(sample_size): # Note: Sample size has to be a string (python u weird for this)\n",
    "    get_specific_data(mistakes_data,'last_tile',sample_size)\n",
    "    print(mistakes_data)\n",
    "\n",
    "mistakes_heatmap(\"20\") # 20 for decent results\n",
    "\n",
    "for i in mistakes_data:\n",
    "    game_array[i] = (game_array[i] + 1)\n",
    "\n",
    "heatmap_arr = [game_array[i:i + 4] for i in range(0, len(game_array), 4)]\n",
    "print(f'heatmap arr: ', heatmap_arr)\n",
    "\n",
    "def display_heatmap(data_array, cbarlabel, ax=None, cbar_kw=None):\n",
    "    # Generate basic plot\n",
    "    fig, ax = plt.subplots()\n",
    "    im = ax.imshow(data_array)\n",
    "\n",
    "    # Loop over data and create text annotations\n",
    "    for i in range(len(data_array)):\n",
    "        for j in range(len(data_array)):\n",
    "            text = ax.text(j, i, i+j , ha=\"center\", va=\"center\", color=\"w\" )\n",
    "\n",
    "    # Create colorbar\n",
    "    if ax is None:\n",
    "        ax = plt.gca()\n",
    "\n",
    "    if cbar_kw is None:\n",
    "        cbar_kw = {}\n",
    "    \n",
    "    cbar = ax.figure.colorbar(im, ax=ax, **cbar_kw)\n",
    "    cbar.ax.set_ylabel(cbarlabel,rotation=-90, va=\"bottom\")\n",
    "\n",
    "    # Display the heatmap\n",
    "    ax.set_title(\"Mistakes heatmap\")\n",
    "    fig.tight_layout()\n",
    "    plt.show()\n",
    "\n",
    "display_heatmap(heatmap_arr, cbarlabel=\"test\")"
   ]
  }
 ],
 "metadata": {
  "kernelspec": {
   "display_name": "Python 3",
   "language": "python",
   "name": "python3"
  },
  "language_info": {
   "codemirror_mode": {
    "name": "ipython",
    "version": 3
   },
   "file_extension": ".py",
   "mimetype": "text/x-python",
   "name": "python",
   "nbconvert_exporter": "python",
   "pygments_lexer": "ipython3",
   "version": "3.11.0"
  },
  "orig_nbformat": 4,
  "vscode": {
   "interpreter": {
    "hash": "c261aea317cc0286b3b3261fbba9abdec21eaa57589985bb7a274bf54d6cc0a7"
   }
  }
 },
 "nbformat": 4,
 "nbformat_minor": 2
}
